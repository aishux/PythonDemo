{
  "nbformat": 4,
  "nbformat_minor": 0,
  "metadata": {
    "colab": {
      "provenance": []
    },
    "kernelspec": {
      "name": "python3",
      "display_name": "Python 3"
    },
    "language_info": {
      "name": "python"
    }
  },
  "cells": [
    {
      "cell_type": "markdown",
      "source": [
        "# Introduction to Unordered Sets\n",
        "\n",
        "## What is an Unordered Set?\n",
        "\n",
        "An unordered set is a collection of unique elements where the order of insertion is not preserved. This means that elements are stored in an arbitrary order and may change over time.\n",
        "\n",
        "## Why Unordered Sets?\n",
        "\n",
        "- **Fast Lookup**: Unordered sets offer constant-time lookup for elements, making them efficient for membership testing.\n",
        "- **No Duplicates**: Like sets, unordered sets ensure that each element appears only once.\n",
        "\n",
        "## Example: Unique Visitors to a Website\n",
        "\n",
        "Consider a website that tracks unique visitors:\n",
        "\n",
        "- Visitor 1: John\n",
        "- Visitor 2: Alice\n",
        "- Visitor 3: John (Oops! Already counted)\n",
        "- Visitor 4: Bob\n",
        "\n",
        "In an unordered set, the order of insertion is not preserved:\n",
        "- Alice\n",
        "- Bob\n",
        "- John\n",
        "\n",
        "## Implementation in Python"
      ],
      "metadata": {
        "id": "PVFcqAJNWXWX"
      }
    },
    {
      "cell_type": "code",
      "source": [
        "# Initialize an empty set to track unique visitors\n",
        "unique_visitors = set()\n",
        "\n",
        "# Track unique visitors\n",
        "unique_visitors.add(\"John\")\n",
        "unique_visitors.add(\"Alice\")\n",
        "unique_visitors.add(\"John\")  # Duplicate, won't be added\n",
        "unique_visitors.add(\"Bob\")\n",
        "\n",
        "# Print the set of unique visitors\n",
        "print(unique_visitors)"
      ],
      "metadata": {
        "id": "KhUr-xd9XUlS"
      },
      "execution_count": null,
      "outputs": []
    },
    {
      "cell_type": "markdown",
      "source": [
        "# Introduction to Dictionaries\n",
        "\n",
        "## What is a Dictionary?\n",
        "\n",
        "A dictionary in Python is a collection of key-value pairs where each key is associated with a value. Unlike sequences that are indexed by a range of numbers, dictionaries are indexed by keys, which can be of any immutable type.\n",
        "\n",
        "## Why Dictionaries?\n",
        "\n",
        "- **Key-Value Mapping**: Dictionaries allow you to store data in key-value pairs, making it easy to retrieve values based on their corresponding keys.\n",
        "- **Fast Lookup**: Dictionaries offer constant-time lookup for values, making them efficient for data retrieval.\n",
        "\n",
        "## Example: Student Grades\n",
        "\n",
        "Consider a scenario where we want to store additional information about students:\n",
        "\n",
        "- John: Grade A, Age 20\n",
        "- Alice: Grade B, Age 22\n",
        "- Bob: Grade C, Age 21\n",
        "\n",
        "In a dictionary, we can map each student's name to a tuple containing their grade and age:"
      ],
      "metadata": {
        "id": "jzK8OEVOYDQz"
      }
    },
    {
      "cell_type": "code",
      "source": [
        "# Create a dictionary to store student information\n",
        "student_info = {\n",
        "    \"John\": {\"grade\": \"A\", \"age\": 20},\n",
        "    \"Alice\": {\"grade\": \"B\", \"age\": 22},\n",
        "    \"Bob\": {\"grade\": \"C\", \"age\": 21}\n",
        "}\n",
        "\n",
        "# Print the dictionary\n",
        "print(student_info)\n",
        "\n",
        "# Access value using key\n",
        "print(student_info[\"John\"])\n",
        "\n",
        "# Access nested value using keys\n",
        "print(student_info[\"Alice\"][\"age\"])\n",
        "\n",
        "# Get value using get() function\n",
        "print(student_info.get(\"Bob\"))\n",
        "\n",
        "# Get value using get() function with default value\n",
        "print(student_info.get(\"Dave\", \"N/A\"))"
      ],
      "metadata": {
        "id": "1LxhMMGaYF7O"
      },
      "execution_count": null,
      "outputs": []
    },
    {
      "cell_type": "markdown",
      "source": [
        "# Introduction to Ordered Dictionary\n",
        "\n",
        "## What is an Ordered Dictionary?\n",
        "\n",
        "An ordered dictionary in Python is a dictionary subclass that remembers the order in which its contents were added. Unlike regular dictionaries, which do not maintain any specific order, ordered dictionaries preserve the insertion order of keys.\n",
        "\n",
        "## Why Ordered Dictionaries?\n",
        "\n",
        "- **Preserving Order**: Ordered dictionaries are useful when the order of insertion matters and you need to iterate over the items in the same order they were added.\n",
        "- **Predictable Iteration**: With ordered dictionaries, you can rely on the order of keys during iteration, which is not guaranteed in regular dictionaries.\n",
        "\n",
        "## Example: Shopping Cart\n",
        "\n",
        "Consider a shopping cart where items are added in a specific order:\n",
        "\n",
        "1. Item 1: Apple\n",
        "2. Item 2: Banana\n",
        "3. Item 3: Orange\n",
        "4. Item 4: Apple (Oops! Already added)\n",
        "5. Item 5: Mango\n",
        "\n",
        "In an ordered dictionary, the items would be stored in the same order they were added:\n"
      ],
      "metadata": {
        "id": "lBY2bwwyY4tl"
      }
    },
    {
      "cell_type": "code",
      "source": [
        "from collections import OrderedDict\n",
        "\n",
        "# Create an ordered dictionary to store items in a shopping cart\n",
        "shopping_cart = OrderedDict()\n",
        "\n",
        "# Add items to the shopping cart\n",
        "shopping_cart[\"Item 1\"] = \"Apple\"\n",
        "shopping_cart[\"Item 2\"] = \"Banana\"\n",
        "shopping_cart[\"Item 3\"] = \"Orange\"\n",
        "shopping_cart[\"Item 4\"] = \"Apple\"  # Duplicate, will be added\n",
        "shopping_cart[\"Item 5\"] = \"Mango\"\n",
        "\n",
        "# Print the ordered dictionary\n",
        "print(shopping_cart)"
      ],
      "metadata": {
        "id": "NIxrc7bsaB_p"
      },
      "execution_count": null,
      "outputs": []
    },
    {
      "cell_type": "markdown",
      "source": [
        "# Slice Operators in Python\n",
        "\n",
        "## What are Slice Operators?\n",
        "\n",
        "Slice operators in Python are used to extract a portion of a sequence (such as a string, list, or tuple) by specifying a range of indices. They provide a concise way to create a new sequence containing elements from the original sequence.\n",
        "\n",
        "## Syntax\n",
        "\n",
        "The general syntax for slice operators is:\n",
        "\n",
        "```python\n",
        "sequence[start:stop:step]\n",
        "```\n",
        "Where:\n",
        "\n",
        "- **start**: Optional. The index specifying the start of the slice (inclusive). If omitted, defaults to the beginning of the sequence.\n",
        "- **stop**: Required. The index specifying the end of the slice (exclusive). The slice includes elements up to, but not including, this index.\n",
        "- **step**: Optional. The step size used to select elements. If omitted, defaults to 1.\n"
      ],
      "metadata": {
        "id": "4S947Il3aWXL"
      }
    },
    {
      "cell_type": "code",
      "source": [
        "text = \"Hello, World!\"\n",
        "\n",
        "# Basic Slicing\n",
        "print(text[0:3])\n",
        "\n",
        "print(text[7:])\n",
        "\n",
        "print(text[::2])\n",
        "\n",
        "# Negative Indices\n",
        "print(text[-3:])\n",
        "\n",
        "print(text[::-1])"
      ],
      "metadata": {
        "id": "uSfDQFlHaXu7"
      },
      "execution_count": null,
      "outputs": []
    },
    {
      "cell_type": "markdown",
      "source": [
        "# Membership Operators in Python\n",
        "\n",
        "## What are Membership Operators?\n",
        "\n",
        "Membership operators in Python are used to test whether a value or variable is found in a sequence (such as strings, lists, tuples, or dictionaries). They evaluate to True if the specified item is present in the sequence, and False otherwise.\n",
        "\n",
        "## Syntax\n",
        "\n",
        "Python provides two membership operators:\n",
        "\n",
        "- `in`: Evaluates to True if the specified item is found in the sequence.\n",
        "- `not in`: Evaluates to True if the specified item is not found in the sequence."
      ],
      "metadata": {
        "id": "MCkckEwdbTxL"
      }
    },
    {
      "cell_type": "code",
      "source": [
        "fruits = [\"apple\", \"banana\", \"cherry\", \"orange\"]\n",
        "\n",
        "# Check if \"banana\" is present in the list\n",
        "print(\"banana\" in fruits)\n",
        "\n",
        "# Check if \"grape\" is not present in the list\n",
        "print(\"grape\" not in fruits)"
      ],
      "metadata": {
        "id": "eiaEF7hdbU7x"
      },
      "execution_count": null,
      "outputs": []
    },
    {
      "cell_type": "markdown",
      "source": [
        "# If-Else Conditions in Python\n",
        "\n",
        "## What are If-Else Conditions?\n",
        "\n",
        "If-else conditions in Python are used to make decisions based on certain conditions. They allow you to execute different blocks of code depending on whether a condition evaluates to True or False.\n",
        "\n",
        "## Syntax\n",
        "\n",
        "The general syntax for if-else conditions is:\n",
        "\n",
        "```python\n",
        "if condition:\n",
        "    # Code block to execute if condition is True\n",
        "else:\n",
        "    # Code block to execute if condition is False\n"
      ],
      "metadata": {
        "id": "gHYjMVjNcLe0"
      }
    },
    {
      "cell_type": "code",
      "source": [
        "# Check if a number is positive, negative, or zero\n",
        "num = 5\n",
        "\n",
        "if num > 0:\n",
        "    print(\"Positive\")\n",
        "elif num < 0:\n",
        "    print(\"Negative\")\n",
        "else:\n",
        "    print(\"Zero\")"
      ],
      "metadata": {
        "id": "Wmh04YDucNKi"
      },
      "execution_count": null,
      "outputs": []
    },
    {
      "cell_type": "markdown",
      "source": [
        "# Comparison Operators in Python\n",
        "\n",
        "## What are Comparison Operators?\n",
        "\n",
        "Comparison operators in Python are used to compare the values of operands. They evaluate to True or False depending on whether the specified condition is satisfied.\n",
        "\n",
        "## Types of Comparison Operators\n",
        "\n",
        "Python provides the following comparison operators:\n",
        "\n",
        "- `==`: Equal to\n",
        "- `!=`: Not equal to\n",
        "- `>`: Greater than\n",
        "- `<`: Less than\n",
        "- `>=`: Greater than or equal to\n",
        "- `<=`: Less than or equal to\n",
        "\n",
        "## Example: Comparing Numbers\n",
        "\n",
        "Consider the following example where we compare two numbers:"
      ],
      "metadata": {
        "id": "OR0cJ4uTcePO"
      }
    },
    {
      "cell_type": "code",
      "source": [
        "# Compare two numbers\n",
        "num1 = 10\n",
        "num2 = 5\n",
        "\n",
        "print(num1 == num2)\n",
        "print(num1 != num2)\n",
        "print(num1 > num2)\n",
        "print(num1 < num2)\n",
        "print(num1 >= num2)\n",
        "print(num1 <= num2)"
      ],
      "metadata": {
        "id": "dNiS94P6cgaz"
      },
      "execution_count": null,
      "outputs": []
    },
    {
      "cell_type": "markdown",
      "source": [
        "# Logical Operators in Python\n",
        "\n",
        "## What are Logical Operators?\n",
        "\n",
        "Logical operators in Python are used to combine multiple conditions into a single logical expression. They evaluate to True or False based on the truth values of the individual conditions.\n",
        "\n",
        "## Types of Logical Operators\n",
        "\n",
        "Python provides the following logical operators:\n",
        "\n",
        "- `and`: Returns True if both conditions are True.\n",
        "- `or`: Returns True if at least one condition is True.\n",
        "- `not`: Returns True if the condition is False.\n",
        "\n",
        "## Example: Using Logical Operators\n",
        "\n",
        "Consider the following example where we use logical operators to combine conditions:\n"
      ],
      "metadata": {
        "id": "u2EAvF13czl3"
      }
    },
    {
      "cell_type": "code",
      "source": [
        "# Example using logical operators\n",
        "x = 5\n",
        "y = 10\n",
        "\n",
        "# Using 'and' operator\n",
        "print(x > 0 and y > 0)\n",
        "print(x > 0 and y < 0)\n",
        "\n",
        "# Using 'or' operator\n",
        "print(x > 0 or y > 0)\n",
        "print(x < 0 or y < 0)\n",
        "\n",
        "# Using 'not' operator\n",
        "print(not x > 0)\n",
        "print(not y < 0)"
      ],
      "metadata": {
        "id": "7tXJJSOAc0h3"
      },
      "execution_count": null,
      "outputs": []
    },
    {
      "cell_type": "markdown",
      "source": [
        "# Loops in Python\n",
        "\n",
        "## What are Loops?\n",
        "\n",
        "Loops in Python are used to execute a block of code repeatedly until a certain condition is met. They allow you to automate repetitive tasks and iterate over sequences of data.\n",
        "\n",
        "## Types of Loops\n",
        "\n",
        "Python supports two main types of loops:\n",
        "\n",
        "1. **for loop**: Executes a block of code a specified number of times, iterating over a sequence (such as a list or tuple).\n",
        "2. **while loop**: Executes a block of code as long as a specified condition is True.\n"
      ],
      "metadata": {
        "id": "xlgzGa9pdHJz"
      }
    },
    {
      "cell_type": "markdown",
      "source": [
        "## Example: Using Loops\n",
        "\n",
        "### 1. For Loop\n",
        "\n",
        "Consider the following example where we use a for loop to iterate over a list:"
      ],
      "metadata": {
        "id": "PQPcP9-4dIUT"
      }
    },
    {
      "cell_type": "code",
      "source": [
        "fruits = [\"apple\", \"banana\", \"cherry\"]\n",
        "\n",
        "for fruit in fruits:\n",
        "    print(fruit)"
      ],
      "metadata": {
        "id": "DRSrGHYxdLcy"
      },
      "execution_count": null,
      "outputs": []
    },
    {
      "cell_type": "markdown",
      "source": [
        "### 2. While Loop\n",
        "Consider the following example where we use a while loop to print numbers from 1 to 5:"
      ],
      "metadata": {
        "id": "H2C7EnsCdPMZ"
      }
    },
    {
      "cell_type": "code",
      "source": [
        "num = 1\n",
        "\n",
        "while num <= 5:\n",
        "    print(num)\n",
        "    num += 1"
      ],
      "metadata": {
        "id": "VoQeF7CBdZDp"
      },
      "execution_count": null,
      "outputs": []
    },
    {
      "cell_type": "markdown",
      "source": [
        "# Functions in Python\n",
        "\n",
        "## What are Functions?\n",
        "\n",
        "Functions in Python are reusable blocks of code that perform a specific task. They allow you to break down your program into smaller, more manageable pieces, making it easier to read, debug, and maintain.\n",
        "\n",
        "## Defining a Function\n",
        "\n",
        "In Python, you can define a function using the `def` keyword followed by the function name and parameters (if any). The function body contains the code to be executed when the function is called."
      ],
      "metadata": {
        "id": "6FPW5qRudplH"
      }
    },
    {
      "cell_type": "code",
      "source": [
        "def greet(name):\n",
        "    \"\"\"Function to greet a person.\"\"\"\n",
        "    print(f\"Hello, {name}!\")\n",
        "\n",
        "greet(\"Person\")"
      ],
      "metadata": {
        "id": "m4rc6Jg8dycu"
      },
      "execution_count": null,
      "outputs": []
    },
    {
      "cell_type": "code",
      "source": [
        "# Example of a function with a return value\n",
        "def add(x, y):\n",
        "    \"\"\"Function to add two numbers.\"\"\"\n",
        "    return x + y\n",
        "\n",
        "ans = add(1,2)\n",
        "print(ans)"
      ],
      "metadata": {
        "id": "Fy4Qt_bGd7Cc"
      },
      "execution_count": null,
      "outputs": []
    }
  ]
}